{
  "nbformat": 4,
  "nbformat_minor": 0,
  "metadata": {
    "colab": {
      "provenance": []
    },
    "kernelspec": {
      "name": "python3",
      "display_name": "Python 3"
    },
    "language_info": {
      "name": "python"
    }
  },
  "cells": [
    {
      "cell_type": "code",
      "execution_count": null,
      "metadata": {
        "id": "5oUNLAwylXpw"
      },
      "outputs": [],
      "source": [
        "import numpy as np\n",
        "import tensorflow as tf\n",
        "import random\n",
        "from numpy.core.fromnumeric import argmax"
      ]
    },
    {
      "cell_type": "code",
      "source": [
        "x = []\n",
        "y = []\n",
        "\n",
        "test_case = 700\n",
        "\n",
        "for i in range(test_case) :\n",
        "  a = [random.randint(0,9),random.randint(0,9),random.randint(0,9)]\n",
        "  b = [a[2], a[1], a[0]]\n",
        "  x.append(a)\n",
        "  y.append(b)"
      ],
      "metadata": {
        "id": "XASAimu4l2sT"
      },
      "execution_count": null,
      "outputs": []
    },
    {
      "cell_type": "code",
      "source": [
        "encoder_input = np.zeros((test_case, 3, 10))\n",
        "decoder_input = np.zeros((test_case, 3, 10))\n",
        "decoder_output = np.zeros((test_case, 3, 10))"
      ],
      "metadata": {
        "id": "geEh4d_HnEmx"
      },
      "execution_count": null,
      "outputs": []
    },
    {
      "cell_type": "code",
      "source": [
        "for i in range(test_case) :\n",
        "  for j in range(3) :\n",
        "    encoder_input[i][j][x[i][j]] = 1\n",
        "    decoder_output[i][j][x[i][j]] = 1\n",
        "    if j :\n",
        "      decoder_input[i][j][x[i][j-1]] = 1"
      ],
      "metadata": {
        "id": "iMREiKmLnR0F"
      },
      "execution_count": null,
      "outputs": []
    },
    {
      "cell_type": "code",
      "source": [
        "encoder_layer_input = tf.keras.layers.Input(shape=(None,10))\n",
        "encoder_layer_lstm = tf.keras.layers.LSTM(20, return_state=True)\n",
        "encoder_lstm_output, encoder_lstm_h, encoder_lstm_c = encoder_layer_lstm(encoder_layer_input)\n",
        "encoder_lstm_states = [encoder_lstm_h, encoder_lstm_c]\n",
        "\n",
        "decoder_layer_input = tf.keras.layers.Input(shape=(None,10))\n",
        "decoder_layer_lstm = tf.keras.layers.LSTM(20, return_sequences=True, return_state=True)\n",
        "decoder_lstm_output, decoder_lstm_h, decoder_lstm_c = decoder_layer_lstm(decoder_layer_input, initial_state=encoder_lstm_states)\n",
        "\n",
        "decoder_dense = tf.keras.layers.Dense(10, activation='softmax')\n",
        "decoder_dense_output = decoder_dense(decoder_lstm_output)"
      ],
      "metadata": {
        "id": "vc89CUXjoA1u"
      },
      "execution_count": null,
      "outputs": []
    },
    {
      "cell_type": "code",
      "source": [
        "model = tf.keras.Model(inputs=[encoder_layer_input, decoder_layer_input], outputs=decoder_dense_output)\n",
        "model.compile('adam', 'categorical_crossentropy', metrics=['accuracy'])\n",
        "model.fit([encoder_input, decoder_input], decoder_output, epochs=700)"
      ],
      "metadata": {
        "id": "N_3Hz047seNr"
      },
      "execution_count": null,
      "outputs": []
    },
    {
      "cell_type": "code",
      "source": [
        "encoder = tf.keras.Model(encoder_layer_input, encoder_lstm_states)"
      ],
      "metadata": {
        "id": "DsVu6noWua9F"
      },
      "execution_count": null,
      "outputs": []
    },
    {
      "cell_type": "code",
      "source": [
        "decoder_hidden = tf.keras.layers.Input(shape=(20))\n",
        "decoder_cell = tf.keras.layers.Input(shape=(20))\n",
        "decoder_input_states = [decoder_hidden, decoder_cell]\n",
        "\n",
        "decoder_lstm_output, decoder_lstm_h, decoder_lstm_c = decoder_layer_lstm(decoder_layer_input, initial_state=decoder_input_states)\n",
        "decoder_dense_output = decoder_dense(decoder_lstm_output)\n",
        "decoder_states = [decoder_lstm_h, decoder_lstm_c]"
      ],
      "metadata": {
        "id": "tNL32k5Uu3Z6"
      },
      "execution_count": null,
      "outputs": []
    },
    {
      "cell_type": "code",
      "source": [
        "decoder = tf.keras.Model(inputs= [decoder_layer_input]+decoder_input_states, outputs= [decoder_dense_output]+decoder_states)"
      ],
      "metadata": {
        "id": "LlsqfkLzu8_R"
      },
      "execution_count": null,
      "outputs": []
    },
    {
      "cell_type": "code",
      "source": [
        "def get_prediction(i) :\n",
        "  test_encoder_input = np.array([encoder_input[i]])\n",
        "  test_encoder_output = encoder.predict(test_encoder_input)\n",
        "  test_decoder_input = np.zeros((1,1,10))\n",
        "\n",
        "  ans = []\n",
        "\n",
        "  for i in range(3) :\n",
        "\n",
        "    test_decoder_output, test_decoder_h, test_decoder_c = decoder.predict([test_decoder_input] + test_encoder_output)\n",
        "\n",
        "    val = argmax(test_decoder_output)\n",
        "    test_encoder_output = [test_decoder_h, test_decoder_c]\n",
        "    test_decoder_input = np.zeros((1,1,10))\n",
        "    test_decoder_input[0][0][val] = 1\n",
        "    ans.append(val)\n",
        "\n",
        "  ans.reverse()\n",
        "\n",
        "  return ans"
      ],
      "metadata": {
        "id": "PP2Lv-eIyhpA"
      },
      "execution_count": null,
      "outputs": []
    },
    {
      "cell_type": "code",
      "source": [
        "i = 20\n",
        "print(y[i])\n",
        "print(get_prediction(i))"
      ],
      "metadata": {
        "colab": {
          "base_uri": "https://localhost:8080/"
        },
        "id": "j5Glgn-b09bF",
        "outputId": "a740d257-468c-47d5-d6a1-d053f0eebbf4"
      },
      "execution_count": null,
      "outputs": [
        {
          "output_type": "stream",
          "name": "stdout",
          "text": [
            "[2, 3, 6]\n",
            "[2, 3, 6]\n"
          ]
        }
      ]
    },
    {
      "cell_type": "code",
      "source": [
        "for i in range(200) :\n",
        "  result = get_prediction(i)\n",
        "  print(x[i] , '\\t', result, '\\t', y[i]==result)"
      ],
      "metadata": {
        "id": "ycS8kJPQ5TDr"
      },
      "execution_count": null,
      "outputs": []
    }
  ]
}